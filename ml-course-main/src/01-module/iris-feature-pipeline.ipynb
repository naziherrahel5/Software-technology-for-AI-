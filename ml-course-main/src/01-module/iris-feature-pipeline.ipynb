{
 "cells": [
  {
   "cell_type": "markdown",
   "metadata": {
    "id": "d2kLrOh-bpGy"
   },
   "source": [
    "# Iris Flower - Feature Pipeline\n",
    "\n",
    "In this notebook we will, \n",
    "\n",
    "1. Run in either \"Backfill\" or \"Normal\" operation. \n",
    "2. IF *BACKFILL==True*, we will load our DataFrame with data from the iris.csv file \n",
    "\n",
    "   ELSE *BACKFILL==False*, we will load our DataFrame with one synthetic Iris Flower sample \n",
    "3. Write our DataFrame to a Feature Group"
   ]
  },
  {
   "cell_type": "code",
   "execution_count": 1,
   "metadata": {},
   "outputs": [
    {
     "name": "stdout",
     "output_type": "stream",
     "text": [
      "Requirement already satisfied: hopsworks in c:\\users\\clinton\\anaconda3\\envs\\virtual\\lib\\site-packages (3.4.3)\n",
      "Requirement already satisfied: requests in c:\\users\\clinton\\anaconda3\\envs\\virtual\\lib\\site-packages (from hopsworks) (2.28.1)\n",
      "Requirement already satisfied: boto3 in c:\\users\\clinton\\anaconda3\\envs\\virtual\\lib\\site-packages (from hopsworks) (1.34.14)\n",
      "Requirement already satisfied: tqdm in c:\\users\\clinton\\anaconda3\\envs\\virtual\\lib\\site-packages (from hopsworks) (4.64.1)\n",
      "Requirement already satisfied: furl in c:\\users\\clinton\\anaconda3\\envs\\virtual\\lib\\site-packages (from hopsworks) (2.1.3)\n",
      "Requirement already satisfied: hsml<3.5.0,>=3.4.0 in c:\\users\\clinton\\anaconda3\\envs\\virtual\\lib\\site-packages (from hopsworks) (3.4.5)\n",
      "Requirement already satisfied: hsfs[python]<3.5.0,>=3.4.0 in c:\\users\\clinton\\anaconda3\\envs\\virtual\\lib\\site-packages (from hopsworks) (3.4.5)\n",
      "Requirement already satisfied: mock in c:\\users\\clinton\\anaconda3\\envs\\virtual\\lib\\site-packages (from hopsworks) (4.0.3)\n",
      "Requirement already satisfied: pyhumps==1.6.1 in c:\\users\\clinton\\anaconda3\\envs\\virtual\\lib\\site-packages (from hopsworks) (1.6.1)\n",
      "Requirement already satisfied: pyjks in c:\\users\\clinton\\anaconda3\\envs\\virtual\\lib\\site-packages (from hopsworks) (20.0.0)\n",
      "Requirement already satisfied: PyMySQL[rsa] in c:\\users\\clinton\\anaconda3\\envs\\virtual\\lib\\site-packages (from hsfs[python]<3.5.0,>=3.4.0->hopsworks) (1.1.0)\n",
      "Requirement already satisfied: markupsafe<2.1.0 in c:\\users\\clinton\\anaconda3\\envs\\virtual\\lib\\site-packages (from hsfs[python]<3.5.0,>=3.4.0->hopsworks) (2.0.1)\n",
      "Requirement already satisfied: tzlocal in c:\\users\\clinton\\anaconda3\\envs\\virtual\\lib\\site-packages (from hsfs[python]<3.5.0,>=3.4.0->hopsworks) (5.2)\n",
      "Requirement already satisfied: fsspec in c:\\users\\clinton\\anaconda3\\envs\\virtual\\lib\\site-packages (from hsfs[python]<3.5.0,>=3.4.0->hopsworks) (2022.11.0)\n",
      "Requirement already satisfied: pandas<2.1.0 in c:\\users\\clinton\\anaconda3\\envs\\virtual\\lib\\site-packages (from hsfs[python]<3.5.0,>=3.4.0->hopsworks) (1.5.3)\n",
      "Requirement already satisfied: great-expectations==0.14.13 in c:\\users\\clinton\\anaconda3\\envs\\virtual\\lib\\site-packages (from hsfs[python]<3.5.0,>=3.4.0->hopsworks) (0.14.13)\n",
      "Requirement already satisfied: sqlalchemy in c:\\users\\clinton\\anaconda3\\envs\\virtual\\lib\\site-packages (from hsfs[python]<3.5.0,>=3.4.0->hopsworks) (1.4.39)\n",
      "Requirement already satisfied: avro==1.11.0 in c:\\users\\clinton\\anaconda3\\envs\\virtual\\lib\\site-packages (from hsfs[python]<3.5.0,>=3.4.0->hopsworks) (1.11.0)\n",
      "Requirement already satisfied: numpy<2 in c:\\users\\clinton\\anaconda3\\envs\\virtual\\lib\\site-packages (from hsfs[python]<3.5.0,>=3.4.0->hopsworks) (1.23.5)\n",
      "Requirement already satisfied: pyarrow>=10.0 in c:\\users\\clinton\\anaconda3\\envs\\virtual\\lib\\site-packages (from hsfs[python]<3.5.0,>=3.4.0->hopsworks) (14.0.2)\n",
      "Requirement already satisfied: fastavro<=1.8.2,>=1.4.11 in c:\\users\\clinton\\anaconda3\\envs\\virtual\\lib\\site-packages (from hsfs[python]<3.5.0,>=3.4.0->hopsworks) (1.8.2)\n",
      "Requirement already satisfied: pyhopshive[thrift] in c:\\users\\clinton\\anaconda3\\envs\\virtual\\lib\\site-packages (from hsfs[python]<3.5.0,>=3.4.0->hopsworks) (0.6.4.1.dev0)\n",
      "Requirement already satisfied: confluent-kafka<=2.1.1 in c:\\users\\clinton\\anaconda3\\envs\\virtual\\lib\\site-packages (from hsfs[python]<3.5.0,>=3.4.0->hopsworks) (2.1.1)\n",
      "Requirement already satisfied: ruamel.yaml<0.17.18,>=0.16 in c:\\users\\clinton\\anaconda3\\envs\\virtual\\lib\\site-packages (from great-expectations==0.14.13->hsfs[python]<3.5.0,>=3.4.0->hopsworks) (0.17.17)\n",
      "Requirement already satisfied: typing-extensions>=3.10.0.0 in c:\\users\\clinton\\anaconda3\\envs\\virtual\\lib\\site-packages (from great-expectations==0.14.13->hsfs[python]<3.5.0,>=3.4.0->hopsworks) (4.4.0)\n",
      "Requirement already satisfied: urllib3<1.27,>=1.25.4 in c:\\users\\clinton\\anaconda3\\envs\\virtual\\lib\\site-packages (from great-expectations==0.14.13->hsfs[python]<3.5.0,>=3.4.0->hopsworks) (1.26.14)\n",
      "Requirement already satisfied: pyparsing<3,>=2.4 in c:\\users\\clinton\\anaconda3\\envs\\virtual\\lib\\site-packages (from great-expectations==0.14.13->hsfs[python]<3.5.0,>=3.4.0->hopsworks) (2.4.7)\n",
      "Requirement already satisfied: python-dateutil>=2.8.1 in c:\\users\\clinton\\anaconda3\\envs\\virtual\\lib\\site-packages (from great-expectations==0.14.13->hsfs[python]<3.5.0,>=3.4.0->hopsworks) (2.8.2)\n",
      "Requirement already satisfied: scipy>=0.19.0 in c:\\users\\clinton\\anaconda3\\envs\\virtual\\lib\\site-packages (from great-expectations==0.14.13->hsfs[python]<3.5.0,>=3.4.0->hopsworks) (1.10.0)\n",
      "Requirement already satisfied: Ipython>=7.16.3 in c:\\users\\clinton\\anaconda3\\envs\\virtual\\lib\\site-packages (from great-expectations==0.14.13->hsfs[python]<3.5.0,>=3.4.0->hopsworks) (8.10.0)\n",
      "Requirement already satisfied: termcolor>=1.1.0 in c:\\users\\clinton\\anaconda3\\envs\\virtual\\lib\\site-packages (from great-expectations==0.14.13->hsfs[python]<3.5.0,>=3.4.0->hopsworks) (2.4.0)\n",
      "Requirement already satisfied: jinja2<3.1.0,>=2.10 in c:\\users\\clinton\\anaconda3\\envs\\virtual\\lib\\site-packages (from great-expectations==0.14.13->hsfs[python]<3.5.0,>=3.4.0->hopsworks) (3.0.3)\n",
      "Requirement already satisfied: altair<5,>=4.0.0 in c:\\users\\clinton\\anaconda3\\envs\\virtual\\lib\\site-packages (from great-expectations==0.14.13->hsfs[python]<3.5.0,>=3.4.0->hopsworks) (4.2.2)\n",
      "Requirement already satisfied: packaging in c:\\users\\clinton\\anaconda3\\envs\\virtual\\lib\\site-packages (from great-expectations==0.14.13->hsfs[python]<3.5.0,>=3.4.0->hopsworks) (22.0)\n",
      "Requirement already satisfied: Click>=7.1.2 in c:\\users\\clinton\\anaconda3\\envs\\virtual\\lib\\site-packages (from great-expectations==0.14.13->hsfs[python]<3.5.0,>=3.4.0->hopsworks) (8.0.4)\n",
      "Requirement already satisfied: nbformat>=5.0 in c:\\users\\clinton\\anaconda3\\envs\\virtual\\lib\\site-packages (from great-expectations==0.14.13->hsfs[python]<3.5.0,>=3.4.0->hopsworks) (5.7.0)\n",
      "Requirement already satisfied: dataclasses in c:\\users\\clinton\\anaconda3\\envs\\virtual\\lib\\site-packages (from great-expectations==0.14.13->hsfs[python]<3.5.0,>=3.4.0->hopsworks) (0.6)\n",
      "Requirement already satisfied: jsonpatch>=1.22 in c:\\users\\clinton\\anaconda3\\envs\\virtual\\lib\\site-packages (from great-expectations==0.14.13->hsfs[python]<3.5.0,>=3.4.0->hopsworks) (1.33)\n",
      "Requirement already satisfied: importlib-metadata>=1.7.0 in c:\\users\\clinton\\anaconda3\\envs\\virtual\\lib\\site-packages (from great-expectations==0.14.13->hsfs[python]<3.5.0,>=3.4.0->hopsworks) (4.11.3)\n",
      "Requirement already satisfied: colorama>=0.4.3 in c:\\users\\clinton\\anaconda3\\envs\\virtual\\lib\\site-packages (from great-expectations==0.14.13->hsfs[python]<3.5.0,>=3.4.0->hopsworks) (0.4.6)\n",
      "Requirement already satisfied: jsonschema>=2.5.1 in c:\\users\\clinton\\anaconda3\\envs\\virtual\\lib\\site-packages (from great-expectations==0.14.13->hsfs[python]<3.5.0,>=3.4.0->hopsworks) (4.17.3)\n",
      "Requirement already satisfied: cryptography>=3.2 in c:\\users\\clinton\\anaconda3\\envs\\virtual\\lib\\site-packages (from great-expectations==0.14.13->hsfs[python]<3.5.0,>=3.4.0->hopsworks) (39.0.1)\n",
      "Requirement already satisfied: pytz>=2021.3 in c:\\users\\clinton\\anaconda3\\envs\\virtual\\lib\\site-packages (from great-expectations==0.14.13->hsfs[python]<3.5.0,>=3.4.0->hopsworks) (2022.7)\n",
      "Requirement already satisfied: mistune>=0.8.4 in c:\\users\\clinton\\anaconda3\\envs\\virtual\\lib\\site-packages (from great-expectations==0.14.13->hsfs[python]<3.5.0,>=3.4.0->hopsworks) (0.8.4)\n",
      "Requirement already satisfied: idna<4,>=2.5 in c:\\users\\clinton\\anaconda3\\envs\\virtual\\lib\\site-packages (from requests->hopsworks) (3.4)\n",
      "Requirement already satisfied: certifi>=2017.4.17 in c:\\users\\clinton\\anaconda3\\envs\\virtual\\lib\\site-packages (from requests->hopsworks) (2022.12.7)\n",
      "Requirement already satisfied: charset-normalizer<3,>=2 in c:\\users\\clinton\\anaconda3\\envs\\virtual\\lib\\site-packages (from requests->hopsworks) (2.0.4)\n",
      "Requirement already satisfied: botocore<1.35.0,>=1.34.14 in c:\\users\\clinton\\anaconda3\\envs\\virtual\\lib\\site-packages (from boto3->hopsworks) (1.34.14)\n",
      "Requirement already satisfied: s3transfer<0.11.0,>=0.10.0 in c:\\users\\clinton\\anaconda3\\envs\\virtual\\lib\\site-packages (from boto3->hopsworks) (0.10.0)\n",
      "Requirement already satisfied: jmespath<2.0.0,>=0.7.1 in c:\\users\\clinton\\anaconda3\\envs\\virtual\\lib\\site-packages (from boto3->hopsworks) (0.10.0)\n",
      "Requirement already satisfied: orderedmultidict>=1.0.1 in c:\\users\\clinton\\anaconda3\\envs\\virtual\\lib\\site-packages (from furl->hopsworks) (1.0.1)\n",
      "Requirement already satisfied: six>=1.8.0 in c:\\users\\clinton\\anaconda3\\envs\\virtual\\lib\\site-packages (from furl->hopsworks) (1.16.0)\n",
      "Requirement already satisfied: pycryptodomex in c:\\users\\clinton\\anaconda3\\envs\\virtual\\lib\\site-packages (from pyjks->hopsworks) (3.19.1)\n",
      "Requirement already satisfied: javaobj-py3 in c:\\users\\clinton\\anaconda3\\envs\\virtual\\lib\\site-packages (from pyjks->hopsworks) (0.4.3)\n",
      "Requirement already satisfied: pyasn1-modules in c:\\users\\clinton\\anaconda3\\envs\\virtual\\lib\\site-packages (from pyjks->hopsworks) (0.2.8)\n",
      "Requirement already satisfied: twofish in c:\\users\\clinton\\anaconda3\\envs\\virtual\\lib\\site-packages (from pyjks->hopsworks) (0.3.0)\n",
      "Requirement already satisfied: pyasn1>=0.3.5 in c:\\users\\clinton\\anaconda3\\envs\\virtual\\lib\\site-packages (from pyjks->hopsworks) (0.4.8)\n",
      "Requirement already satisfied: tzdata in c:\\users\\clinton\\anaconda3\\envs\\virtual\\lib\\site-packages (from tzlocal->hsfs[python]<3.5.0,>=3.4.0->hopsworks) (2023.4)\n",
      "Requirement already satisfied: future in c:\\users\\clinton\\anaconda3\\envs\\virtual\\lib\\site-packages (from pyhopshive[thrift]->hsfs[python]<3.5.0,>=3.4.0->hopsworks) (0.18.3)\n",
      "Requirement already satisfied: thrift>=0.10.0 in c:\\users\\clinton\\anaconda3\\envs\\virtual\\lib\\site-packages (from pyhopshive[thrift]->hsfs[python]<3.5.0,>=3.4.0->hopsworks) (0.16.0)\n",
      "Requirement already satisfied: greenlet!=0.4.17 in c:\\users\\clinton\\anaconda3\\envs\\virtual\\lib\\site-packages (from sqlalchemy->hsfs[python]<3.5.0,>=3.4.0->hopsworks) (2.0.1)\n",
      "Requirement already satisfied: toolz in c:\\users\\clinton\\anaconda3\\envs\\virtual\\lib\\site-packages (from altair<5,>=4.0.0->great-expectations==0.14.13->hsfs[python]<3.5.0,>=3.4.0->hopsworks) (0.12.0)\n",
      "Requirement already satisfied: entrypoints in c:\\users\\clinton\\anaconda3\\envs\\virtual\\lib\\site-packages (from altair<5,>=4.0.0->great-expectations==0.14.13->hsfs[python]<3.5.0,>=3.4.0->hopsworks) (0.4)\n",
      "Requirement already satisfied: cffi>=1.12 in c:\\users\\clinton\\anaconda3\\envs\\virtual\\lib\\site-packages (from cryptography>=3.2->great-expectations==0.14.13->hsfs[python]<3.5.0,>=3.4.0->hopsworks) (1.15.1)\n",
      "Requirement already satisfied: zipp>=0.5 in c:\\users\\clinton\\anaconda3\\envs\\virtual\\lib\\site-packages (from importlib-metadata>=1.7.0->great-expectations==0.14.13->hsfs[python]<3.5.0,>=3.4.0->hopsworks) (3.11.0)\n",
      "Requirement already satisfied: stack-data in c:\\users\\clinton\\anaconda3\\envs\\virtual\\lib\\site-packages (from Ipython>=7.16.3->great-expectations==0.14.13->hsfs[python]<3.5.0,>=3.4.0->hopsworks) (0.2.0)\n",
      "Requirement already satisfied: pygments>=2.4.0 in c:\\users\\clinton\\anaconda3\\envs\\virtual\\lib\\site-packages (from Ipython>=7.16.3->great-expectations==0.14.13->hsfs[python]<3.5.0,>=3.4.0->hopsworks) (2.11.2)\n",
      "Requirement already satisfied: decorator in c:\\users\\clinton\\anaconda3\\envs\\virtual\\lib\\site-packages (from Ipython>=7.16.3->great-expectations==0.14.13->hsfs[python]<3.5.0,>=3.4.0->hopsworks) (5.1.1)\n",
      "Requirement already satisfied: pickleshare in c:\\users\\clinton\\anaconda3\\envs\\virtual\\lib\\site-packages (from Ipython>=7.16.3->great-expectations==0.14.13->hsfs[python]<3.5.0,>=3.4.0->hopsworks) (0.7.5)\n",
      "Requirement already satisfied: jedi>=0.16 in c:\\users\\clinton\\anaconda3\\envs\\virtual\\lib\\site-packages (from Ipython>=7.16.3->great-expectations==0.14.13->hsfs[python]<3.5.0,>=3.4.0->hopsworks) (0.18.1)\n",
      "Requirement already satisfied: backcall in c:\\users\\clinton\\anaconda3\\envs\\virtual\\lib\\site-packages (from Ipython>=7.16.3->great-expectations==0.14.13->hsfs[python]<3.5.0,>=3.4.0->hopsworks) (0.2.0)\n",
      "Requirement already satisfied: prompt-toolkit<3.1.0,>=3.0.30 in c:\\users\\clinton\\anaconda3\\envs\\virtual\\lib\\site-packages (from Ipython>=7.16.3->great-expectations==0.14.13->hsfs[python]<3.5.0,>=3.4.0->hopsworks) (3.0.36)\n",
      "Requirement already satisfied: traitlets>=5 in c:\\users\\clinton\\anaconda3\\envs\\virtual\\lib\\site-packages (from Ipython>=7.16.3->great-expectations==0.14.13->hsfs[python]<3.5.0,>=3.4.0->hopsworks) (5.7.1)\n",
      "Requirement already satisfied: matplotlib-inline in c:\\users\\clinton\\anaconda3\\envs\\virtual\\lib\\site-packages (from Ipython>=7.16.3->great-expectations==0.14.13->hsfs[python]<3.5.0,>=3.4.0->hopsworks) (0.1.6)\n",
      "Requirement already satisfied: jsonpointer>=1.9 in c:\\users\\clinton\\anaconda3\\envs\\virtual\\lib\\site-packages (from jsonpatch>=1.22->great-expectations==0.14.13->hsfs[python]<3.5.0,>=3.4.0->hopsworks) (2.4)\n",
      "Requirement already satisfied: pyrsistent!=0.17.0,!=0.17.1,!=0.17.2,>=0.14.0 in c:\\users\\clinton\\anaconda3\\envs\\virtual\\lib\\site-packages (from jsonschema>=2.5.1->great-expectations==0.14.13->hsfs[python]<3.5.0,>=3.4.0->hopsworks) (0.18.0)\n",
      "Requirement already satisfied: attrs>=17.4.0 in c:\\users\\clinton\\anaconda3\\envs\\virtual\\lib\\site-packages (from jsonschema>=2.5.1->great-expectations==0.14.13->hsfs[python]<3.5.0,>=3.4.0->hopsworks) (22.1.0)\n",
      "Requirement already satisfied: jupyter-core in c:\\users\\clinton\\anaconda3\\envs\\virtual\\lib\\site-packages (from nbformat>=5.0->great-expectations==0.14.13->hsfs[python]<3.5.0,>=3.4.0->hopsworks) (5.2.0)\n",
      "Requirement already satisfied: fastjsonschema in c:\\users\\clinton\\anaconda3\\envs\\virtual\\lib\\site-packages (from nbformat>=5.0->great-expectations==0.14.13->hsfs[python]<3.5.0,>=3.4.0->hopsworks) (2.16.2)\n",
      "Requirement already satisfied: pycparser in c:\\users\\clinton\\anaconda3\\envs\\virtual\\lib\\site-packages (from cffi>=1.12->cryptography>=3.2->great-expectations==0.14.13->hsfs[python]<3.5.0,>=3.4.0->hopsworks) (2.21)\n",
      "Requirement already satisfied: parso<0.9.0,>=0.8.0 in c:\\users\\clinton\\anaconda3\\envs\\virtual\\lib\\site-packages (from jedi>=0.16->Ipython>=7.16.3->great-expectations==0.14.13->hsfs[python]<3.5.0,>=3.4.0->hopsworks) (0.8.3)\n",
      "Requirement already satisfied: wcwidth in c:\\users\\clinton\\anaconda3\\envs\\virtual\\lib\\site-packages (from prompt-toolkit<3.1.0,>=3.0.30->Ipython>=7.16.3->great-expectations==0.14.13->hsfs[python]<3.5.0,>=3.4.0->hopsworks) (0.2.5)\n",
      "Requirement already satisfied: pywin32>=1.0 in c:\\users\\clinton\\anaconda3\\envs\\virtual\\lib\\site-packages (from jupyter-core->nbformat>=5.0->great-expectations==0.14.13->hsfs[python]<3.5.0,>=3.4.0->hopsworks) (305.1)\n",
      "Requirement already satisfied: platformdirs>=2.5 in c:\\users\\clinton\\anaconda3\\envs\\virtual\\lib\\site-packages (from jupyter-core->nbformat>=5.0->great-expectations==0.14.13->hsfs[python]<3.5.0,>=3.4.0->hopsworks) (2.5.2)\n",
      "Requirement already satisfied: executing in c:\\users\\clinton\\anaconda3\\envs\\virtual\\lib\\site-packages (from stack-data->Ipython>=7.16.3->great-expectations==0.14.13->hsfs[python]<3.5.0,>=3.4.0->hopsworks) (0.8.3)\n",
      "Requirement already satisfied: asttokens in c:\\users\\clinton\\anaconda3\\envs\\virtual\\lib\\site-packages (from stack-data->Ipython>=7.16.3->great-expectations==0.14.13->hsfs[python]<3.5.0,>=3.4.0->hopsworks) (2.0.5)\n",
      "Requirement already satisfied: pure-eval in c:\\users\\clinton\\anaconda3\\envs\\virtual\\lib\\site-packages (from stack-data->Ipython>=7.16.3->great-expectations==0.14.13->hsfs[python]<3.5.0,>=3.4.0->hopsworks) (0.2.2)\n"
     ]
    }
   ],
   "source": [
    "!pip install  hopsworks "
   ]
  },
  {
   "cell_type": "markdown",
   "metadata": {},
   "source": [
    "Set **BACKFILL=True** if you want to create features from the iris.csv file containing historical data."
   ]
  },
  {
   "cell_type": "code",
   "execution_count": 2,
   "metadata": {},
   "outputs": [],
   "source": [
    "import random\n",
    "import pandas as pd\n",
    "import hopsworks\n",
    "\n",
    "BACKFILL= False"
   ]
  },
  {
   "cell_type": "markdown",
   "metadata": {},
   "source": [
    "### Synthetic Data Functions\n",
    "\n",
    "These synthetic data functions can be used to create a DataFrame containing a single Iris Flower sample."
   ]
  },
  {
   "cell_type": "code",
   "execution_count": 12,
   "metadata": {
    "colab": {
     "base_uri": "https://localhost:8080/",
     "height": 206
    },
    "id": "nRmFM7vcbpHA",
    "outputId": "d920d168-9818-40c5-c292-4cf0afcbbcfd"
   },
   "outputs": [],
   "source": [
    "def generate_flower(name, sepal_len_max, sepal_len_min, sepal_width_max, sepal_width_min, \n",
    "                    petal_len_max, petal_len_min, petal_width_max, petal_width_min):\n",
    "    \"\"\"\n",
    "    Returns a single iris flower as a single row in a DataFrame\n",
    "    \"\"\"\n",
    "    df = pd.DataFrame({ \"sepal_length\": [random.uniform(sepal_len_max, sepal_len_min)],\n",
    "                       \"sepal_width\": [random.uniform(sepal_width_max, sepal_width_min)],\n",
    "                       \"petal_length\": [random.uniform(petal_len_max, petal_len_min)],\n",
    "                       \"petal_width\": [random.uniform(petal_width_max, petal_width_min)]\n",
    "                      })\n",
    "    df['variety'] = name\n",
    "    return df\n",
    "\n",
    "\n",
    "def get_random_iris_flower():\n",
    "    \"\"\"\n",
    "    Returns a DataFrame containing one random iris flower\n",
    "    \"\"\"\n",
    "    virginica_df = generate_flower(\"Virginica\", 8, 5.5, 3.8, 2.2, 7, 4.5, 2.5, 1.4)\n",
    "    versicolor_df = generate_flower(\"Versicolor\", 7.5, 4.5, 3.5, 2.1, 3.1, 5.5, 1.8, 1.0)\n",
    "    setosa_df =  generate_flower(\"Setosa\", 6, 4.5, 4.5, 2.3, 1.2, 2, 0.7, 0.3)\n",
    "\n",
    "    # randomly pick one of these 3 and write it to the featurestore\n",
    "    pick_random = random.uniform(0,3)\n",
    "    if pick_random >= 2:\n",
    "        iris_df = virginica_df\n",
    "    elif pick_random >= 1:\n",
    "        iris_df = versicolor_df\n",
    "    else:\n",
    "        iris_df = setosa_df\n",
    "\n",
    "    return iris_df"
   ]
  },
  {
   "cell_type": "markdown",
   "metadata": {},
   "source": [
    "## Backfill or create new synthetic input data\n",
    "\n",
    "You can run this pipeline in either *backfill* or *synthetic-data* mode."
   ]
  },
  {
   "cell_type": "code",
   "execution_count": 13,
   "metadata": {},
   "outputs": [
    {
     "data": {
      "text/html": [
       "<div>\n",
       "<style scoped>\n",
       "    .dataframe tbody tr th:only-of-type {\n",
       "        vertical-align: middle;\n",
       "    }\n",
       "\n",
       "    .dataframe tbody tr th {\n",
       "        vertical-align: top;\n",
       "    }\n",
       "\n",
       "    .dataframe thead th {\n",
       "        text-align: right;\n",
       "    }\n",
       "</style>\n",
       "<table border=\"1\" class=\"dataframe\">\n",
       "  <thead>\n",
       "    <tr style=\"text-align: right;\">\n",
       "      <th></th>\n",
       "      <th>sepal_length</th>\n",
       "      <th>sepal_width</th>\n",
       "      <th>petal_length</th>\n",
       "      <th>petal_width</th>\n",
       "      <th>variety</th>\n",
       "    </tr>\n",
       "  </thead>\n",
       "  <tbody>\n",
       "    <tr>\n",
       "      <th>0</th>\n",
       "      <td>6.921163</td>\n",
       "      <td>3.233851</td>\n",
       "      <td>5.611233</td>\n",
       "      <td>2.407467</td>\n",
       "      <td>Virginica</td>\n",
       "    </tr>\n",
       "  </tbody>\n",
       "</table>\n",
       "</div>"
      ],
      "text/plain": [
       "   sepal_length  sepal_width  petal_length  petal_width    variety\n",
       "0      6.921163     3.233851      5.611233     2.407467  Virginica"
      ]
     },
     "execution_count": 13,
     "metadata": {},
     "output_type": "execute_result"
    }
   ],
   "source": [
    "\n",
    "if BACKFILL == True:\n",
    "    iris_df = pd.read_csv(\"https://repo.hops.works/master/hopsworks-tutorials/data/iris.csv\")\n",
    "else:\n",
    "    iris_df = get_random_iris_flower()\n",
    "    \n",
    "iris_df.head()"
   ]
  },
  {
   "cell_type": "markdown",
   "metadata": {},
   "source": [
    "## Authenticate with Hopsworks using your API Key\n",
    "\n",
    "Hopsworks will prompt you to paste in your API key and provide you with a link to find your API key if you have not stored it securely already."
   ]
  },
  {
   "cell_type": "code",
   "execution_count": 5,
   "metadata": {},
   "outputs": [
    {
     "name": "stdout",
     "output_type": "stream",
     "text": [
      "Connected. Call `.close()` to terminate connection gracefully.\n",
      "\n",
      "Logged in to project, explore it here https://c.app.hopsworks.ai:443/p/366740\n",
      "Connected. Call `.close()` to terminate connection gracefully.\n"
     ]
    }
   ],
   "source": [
    "project = hopsworks.login()\n",
    "fs = project.get_feature_store()"
   ]
  },
  {
   "cell_type": "markdown",
   "metadata": {},
   "source": [
    "## Create and write to a feature group - primary keys\n",
    "\n",
    "To prevent duplicate entries, Hopsworks requires that each DataFame has a *primary_key*. \n",
    "A *primary_key* is one or more columns that uniquely identify the row. Here, we assume\n",
    "that each Iris flower has a unique combination of (\"sepal_length\",\"sepal_width\",\"petal_length\",\"petal_width\")\n",
    "feature values. If you randomly generate a sample that already exists in the feature group, the insert operation will fail.\n",
    "\n",
    "The *feature group* will create its online schema using the schema of the Pandas DataFame."
   ]
  },
  {
   "cell_type": "code",
   "execution_count": 14,
   "metadata": {},
   "outputs": [
    {
     "data": {
      "application/vnd.jupyter.widget-view+json": {
       "model_id": "89b5f1ca313d453e9ea50654024ddd6b",
       "version_major": 2,
       "version_minor": 0
      },
      "text/plain": [
       "Uploading Dataframe: 0.00% |          | Rows 0/1 | Elapsed Time: 00:00 | Remaining Time: ?"
      ]
     },
     "metadata": {},
     "output_type": "display_data"
    },
    {
     "name": "stdout",
     "output_type": "stream",
     "text": [
      "Launching job: iris_1_offline_fg_materialization\n",
      "Job started successfully, you can follow the progress at \n",
      "https://c.app.hopsworks.ai/p/366740/jobs/named/iris_1_offline_fg_materialization/executions\n"
     ]
    },
    {
     "data": {
      "text/plain": [
       "(<hsfs.core.job.Job at 0x12057160>, None)"
      ]
     },
     "execution_count": 14,
     "metadata": {},
     "output_type": "execute_result"
    }
   ],
   "source": [
    "iris_fg = fs.get_or_create_feature_group(name=\"iris\",\n",
    "                                  version=1,\n",
    "                                  primary_key=[\"sepal_length\",\"sepal_width\",\"petal_length\",\"petal_width\"],\n",
    "                                  description=\"Iris flower dataset\"\n",
    "                                 )\n",
    "iris_fg.insert(iris_df)"
   ]
  },
  {
   "cell_type": "code",
   "execution_count": null,
   "metadata": {},
   "outputs": [],
   "source": []
  }
 ],
 "metadata": {
  "colab": {
   "collapsed_sections": [],
   "provenance": []
  },
  "kernelspec": {
   "display_name": "Python 3 (ipykernel)",
   "language": "python",
   "name": "python3"
  },
  "language_info": {
   "codemirror_mode": {
    "name": "ipython",
    "version": 3
   },
   "file_extension": ".py",
   "mimetype": "text/x-python",
   "name": "python",
   "nbconvert_exporter": "python",
   "pygments_lexer": "ipython3",
   "version": "3.10.9"
  }
 },
 "nbformat": 4,
 "nbformat_minor": 1
}
